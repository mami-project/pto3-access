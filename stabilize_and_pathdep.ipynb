{
 "cells": [
  {
   "cell_type": "code",
   "execution_count": null,
   "metadata": {},
   "outputs": [],
   "source": [
    "import ptoclient\n",
    "import json"
   ]
  },
  {
   "cell_type": "code",
   "execution_count": null,
   "metadata": {},
   "outputs": [],
   "source": [
    "token = None\n",
    "c = ptoclient.PTOClient(\"https://mami.cloudlab.zhaw.ch/mami/pto\", token)"
   ]
  },
  {
   "cell_type": "markdown",
   "metadata": {},
   "source": [
    "## 2014: path dependency only"
   ]
  },
  {
   "cell_type": "code",
   "execution_count": null,
   "metadata": {},
   "outputs": [],
   "source": [
    "dates_2014 = [\"140827\", \"140904\", \"140909\"]\n",
    "vp_2014 = [\"lon\", \"nyc\", \"sgp\"]\n",
    "\n",
    "pathdep_sets_2014 = {}\n",
    "for date in dates_2014:\n",
    "    pathdep_sets_2014[date] = []\n",
    "\n",
    "sets_ecn_2014 = c.sets_by_metadata(source=\"https://mami.cloudlab.zhaw.ch/mami/pto/raw/ecn-2014\")\n",
    "for set_url in sets_ecn_2014:\n",
    "    m = c.retrieve_set(url=set_url).metadata()\n",
    "    \n",
    "    for date in dates_2014:\n",
    "        if date in m[\"_sources\"][0]:\n",
    "            pathdep_sets_2014[date].append(m[\"__link\"].split(\"/\")[-1]) "
   ]
  },
  {
   "cell_type": "code",
   "execution_count": null,
   "metadata": {},
   "outputs": [],
   "source": [
    "commands_2014 = []\n",
    "for date in pathdep_sets_2014:\n",
    "    commands_2014.append(\"ptocat {} | ecn_pathdep > ecn_pathdep_{}.obs\".format(\" \".join(pathdep_sets_2014[date]), date))\n",
    "commands_2014"
   ]
  },
  {
   "cell_type": "code",
   "execution_count": null,
   "metadata": {},
   "outputs": [],
   "source": [
    "with open(\"pathdep-14.sh\", mode=\"w\") as sf:\n",
    "    for line in commands_2014:\n",
    "        sf.write(line+\"\\n\")"
   ]
  },
  {
   "cell_type": "markdown",
   "metadata": {},
   "source": [
    "## 2016: path dependency only"
   ]
  },
  {
   "cell_type": "code",
   "execution_count": null,
   "metadata": {},
   "outputs": [],
   "source": [
    "dates_2016 = [\"160719\", \"160727\", \"160804\"]\n",
    "vp_2016 = [\"lon\", \"nyc\", \"sgp\"]\n",
    "\n",
    "pathdep_sets_2016 = {}\n",
    "for date in dates_2016:\n",
    "    pathdep_sets_2016[date] = []\n",
    "\n",
    "sets_ecn_2016 = c.sets_by_metadata(source=\"https://mami.cloudlab.zhaw.ch/mami/pto/raw/ecn-2016\")\n",
    "for set_url in sets_ecn_2016:\n",
    "    m = c.retrieve_set(url=set_url).metadata()\n",
    "    \n",
    "    for date in dates_2016:\n",
    "        if date in m[\"_sources\"][0]:\n",
    "            pathdep_sets_2016[date].append(m[\"__link\"].split(\"/\")[-1]) "
   ]
  },
  {
   "cell_type": "code",
   "execution_count": null,
   "metadata": {},
   "outputs": [],
   "source": [
    "commands_2016 = []\n",
    "for date in pathdep_sets_2016:\n",
    "    commands_2016.append(\"ptocat {} | ecn_pathdep > ecn_pathdep_{}.obs\".format(\" \".join(pathdep_sets_2016[date]), date))\n",
    "commands_2016"
   ]
  },
  {
   "cell_type": "code",
   "execution_count": null,
   "metadata": {},
   "outputs": [],
   "source": [
    "with open(\"pathdep-16.sh\", mode=\"w\") as sf:\n",
    "        sf.write(line+\"\\n\")"
   ]
  },
  {
   "cell_type": "markdown",
   "metadata": {},
   "source": [
    "## 2017-02: stabilization"
   ]
  },
  {
   "cell_type": "code",
   "execution_count": null,
   "metadata": {},
   "outputs": [],
   "source": [
    "runs = {}\n",
    "vps = {}\n",
    "\n",
    "setids_2017_02 = {}\n",
    "\n",
    "sets_ecn_2017_02 = c.sets_by_metadata(source=\"https://mami.cloudlab.zhaw.ch/raw/ecn-2017-02\")\n",
    "for set_url in sets_ecn_2017_02:\n",
    "    m = c.retrieve_set(url=set_url).metadata()\n",
    "    leaf = m[\"_sources\"][0].split(\"/\")[-1].split(\".\")[0]\n",
    "    setid = m[\"__link\"].split(\"/\")[-1]\n",
    "    (run, do, vp, sz, idx) = leaf.split(\"-\")\n",
    "    \n",
    "    if run in runs:\n",
    "        runs[run] += 1\n",
    "    else:\n",
    "        runs[run] = 1\n",
    "    \n",
    "    if vp in vps:\n",
    "        vps[vp] += 1\n",
    "    else:\n",
    "        vps[vp] = 1\n",
    "    \n",
    "    if run not in setids_2017_02:\n",
    "        setids_2017_02[run] = {}\n",
    "    \n",
    "    if vp not in setids_2017_02[run]:\n",
    "        setids_2017_02[run][vp] = [\"\",\"\",\"\"]\n",
    "    \n",
    "    setids_2017_02[run][vp][int(idx)] = setid\n",
    "\n",
    "del(runs['OBGtb2KR2t'])\n",
    "del(runs['zQS99j6tAJ'])"
   ]
  },
  {
   "cell_type": "code",
   "execution_count": null,
   "metadata": {},
   "outputs": [],
   "source": [
    "commands_2017_02_stable = []\n",
    "\n",
    "for run in runs:\n",
    "    for vp in vps:\n",
    "        if vp in setids_2017_02[run]:\n",
    "            commands_2017_02_stable.append(\"ptocat {} | ecn_stabilizer > ecn_stable_{}_{}.obs\".format(\n",
    "            \" \".join(setids_2017_02[run][vp]), run, vp))\n",
    "\n",
    "commands_2017_02_stable"
   ]
  },
  {
   "cell_type": "code",
   "execution_count": null,
   "metadata": {},
   "outputs": [],
   "source": [
    "with open(\"stabilize-17.sh\", mode=\"w\") as sf:\n",
    "    for line in commands_2017_02_stable:\n",
    "        sf.write(line+\"\\n\")"
   ]
  },
  {
   "cell_type": "markdown",
   "metadata": {},
   "source": [
    "## 2017-02: path dependency"
   ]
  },
  {
   "cell_type": "code",
   "execution_count": null,
   "metadata": {},
   "outputs": [],
   "source": [
    "setids_stable_2017_02 = {}\n",
    "\n",
    "sets_ecn_stable = c.sets_by_metadata(condition=\"ecn.stable.connectivity.works\")\n",
    "for set_url in sets_ecn_stable:\n",
    "    m = c.retrieve_set(url=set_url).metadata()\n",
    "    sources = m[\"_sources\"]\n",
    "    setid = m[\"__link\"].split(\"/\")[-1]\n",
    "            \n",
    "    sm = c.retrieve_set(url=sources[0]).metadata()\n",
    "    smleaf = sm[\"_sources\"][0].split(\"/\")[-1].split(\".\")[0]\n",
    "    run = smleaf.split(\"-\")[0]\n",
    "    \n",
    "    if run not in setids_stable_2017_02:\n",
    "        setids_stable_2017_02[run] = []\n",
    "    \n",
    "    setids_stable_2017_02[run].append(setid)"
   ]
  },
  {
   "cell_type": "code",
   "execution_count": null,
   "metadata": {},
   "outputs": [],
   "source": [
    "commands_2017_02_pathdep = []\n",
    "\n",
    "for run in setids_stable_2017_02:\n",
    "    commands_2017_02_pathdep.append(\"ptocat {} | ecn_pathdep > ecn_pathdep_{}.obs\".format(\n",
    "            \" \".join(setids_stable_2017_02[run]), run))\n",
    "commands_2017_02_pathdep"
   ]
  },
  {
   "cell_type": "code",
   "execution_count": null,
   "metadata": {},
   "outputs": [],
   "source": [
    "with open(\"pathdep-17.sh\", mode=\"w\") as sf:\n",
    "    for line in commands_2017_02_stable:\n",
    "        sf.write(line+\"\\n\")"
   ]
  }
 ],
 "metadata": {
  "kernelspec": {
   "display_name": "Python 3",
   "language": "python",
   "name": "python3"
  },
  "language_info": {
   "codemirror_mode": {
    "name": "ipython",
    "version": 3
   },
   "file_extension": ".py",
   "mimetype": "text/x-python",
   "name": "python",
   "nbconvert_exporter": "python",
   "pygments_lexer": "ipython3",
   "version": "3.7.2"
  }
 },
 "nbformat": 4,
 "nbformat_minor": 2
}
